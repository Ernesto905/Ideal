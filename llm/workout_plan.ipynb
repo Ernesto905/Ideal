{
 "cells": [
  {
   "cell_type": "code",
   "execution_count": 2,
   "id": "8d2c41fe-38ec-46a8-b6ec-45c7ab8c34ad",
   "metadata": {},
   "outputs": [
    {
     "name": "stderr",
     "output_type": "stream",
     "text": [
      "/Users/ernesto/Projects/Ideal/venv/lib/python3.9/site-packages/urllib3/__init__.py:35: NotOpenSSLWarning: urllib3 v2 only supports OpenSSL 1.1.1+, currently the 'ssl' module is compiled with 'LibreSSL 2.8.3'. See: https://github.com/urllib3/urllib3/issues/3020\n",
      "  warnings.warn(\n"
     ]
    }
   ],
   "source": [
    "import openai\n",
    "import os\n",
    "import requests\n",
    "from dotenv import load_dotenv\n",
    "from langchain_community.chat_models import ChatOpenAI\n",
    "from langchain.prompts import PromptTemplate\n",
    "from langchain.chains import LLMChain\n",
    "from langchain.chains import SequentialChain\n",
    "import json\n",
    "\n",
    "\n",
    "load_dotenv()\n",
    "openai.api_key = os.getenv(\"OPENAI_API_KEY\")"
   ]
  },
  {
   "cell_type": "code",
   "execution_count": 3,
   "id": "53699cca-12f0-4a17-a4ee-7dc428b148f3",
   "metadata": {},
   "outputs": [],
   "source": [
    "def get_workout(exercise_type, muscle_group, difficulty) -> str:\n",
    "    url = \"https://exercises-by-api-ninjas.p.rapidapi.com/v1/exercises\"\n",
    "    params = {\n",
    "        \"type\": exercise_type,\n",
    "        \"muscle\": muscle_group,\n",
    "        \"difficulty\": difficulty,\n",
    "    }\n",
    "    headers = {\n",
    "\n",
    "    }\n",
    "    response = requests.get(url, headers = headers, params = params)\n",
    "    if response.status_code == 200:\n",
    "        return response.json()\n",
    "    return response.status_code"
   ]
  },
  {
   "cell_type": "code",
   "execution_count": 4,
   "id": "60e089f8-0d22-4ee5-bda9-69345df49203",
   "metadata": {},
   "outputs": [],
   "source": [
    "def set_up(age, gender, height, current_weight, target_weight,fitness_goal, impediments):\n",
    "    llm = ChatOpenAI(\n",
    "        temperature = 0,\n",
    "        model_name = \"gpt-4\",\n",
    "    )\n",
    "    prompt = \"\"\"\n",
    "             A {age} years old {gender} who currently weighs {current_weight} pounds, is {height} cm tall, and has the following impediments: {impediments},\n",
    "             is trying to reach {target_weight} pounds and has the fitness goal: {fitness_goal}. Give a sample weekly workout plan.\n",
    "             \"\"\"\n",
    "    prompt = PromptTemplate.from_template(prompt)\n",
    "    chain = LLMChain(prompt = prompt, llm = llm, output_key = 'training_plan')\n",
    "    \n",
    "    prompt2 = \"\"\"\n",
    "              Take in a training plan: {training_plan}.\n",
    "              For each day in the sample weekly workout plan, return the following in a list: type of exercise, muscle groups targeted, difficulty level.\n",
    "              Make sure type of exercise is only one of the following: cardio, rest, strength. \n",
    "              Make sure the muscle groups targeted is in the following list: abdominals, adductors, biceps, calves, chest, forearms, glutes,\n",
    "              hamstrings, lats, lower_back, middle_back, neck, quadriceps, traps, triceps.\n",
    "              Make sure the diffculty level is one of the following: beginner, intermediate, expert.\n",
    "              \"\"\"\n",
    "    prompt2 = PromptTemplate.from_template(prompt2)\n",
    "    chain_two = LLMChain(llm = llm, prompt = prompt2, output_key = 'plan')\n",
    "\n",
    "    prompt3 = \"\"\"\n",
    "              Take in a weekly workout plan: {plan}.\n",
    "              Give it back in the format of a Python dictionary, where each day is a key. The value of each key is the information\n",
    "              associated with it in the format of a python dictionary where exercise_type, muscle_group, and difficulty are the keys.\n",
    "              Make sure to only include the dictionary in your response without including any other text.\n",
    "              \"\"\"\n",
    "    prompt3 = PromptTemplate.from_template(prompt3)\n",
    "    chain_three = LLMChain(llm = llm, prompt = prompt3)\n",
    "    overall_chain = SequentialChain(\n",
    "        chains = [chain, chain_two, chain_three],\n",
    "        input_variables = ['age', 'gender', 'current_weight', 'height','impediments', 'target_weight', 'fitness_goal'],\n",
    "        verbose = True\n",
    "    )\n",
    "    response = overall_chain(\n",
    "        {'age': age,\n",
    "         'gender' : gender,\n",
    "         'current_weight' : current_weight  , \n",
    "         'height' : height,\n",
    "         'impediments' : impediments,\n",
    "         'target_weight' : target_weight,\n",
    "         'fitness_goal' : fitness_goal}\n",
    "    )\n",
    "    return response"
   ]
  },
  {
   "cell_type": "code",
   "execution_count": 5,
   "id": "66a6c002-b9ff-4077-ac64-d7061c66c8dd",
   "metadata": {},
   "outputs": [],
   "source": [
    "def get_results(age, gender, height, current_weight, target_weight,fitness_goal, impediments):\n",
    "    text = json.loads(set_up(age, gender, height, current_weight, target_weight, fitness_goal, impediments)['text'])\n",
    "    output = {}\n",
    "    weekdays = ['Monday', 'Tuesday', 'Wednesday', 'Thursday', 'Friday', 'Saturday', 'Sunday']\n",
    "    for count, day in zip(weekdays, text.values()):\n",
    "        if day['exercise_type'] == 'cardio':\n",
    "            exercises = get_workout('cardio', \"\", day['difficulty'])\n",
    "            temp = {}\n",
    "            output[count] = exercises\n",
    "        elif day['exercise_type'] == 'strength':\n",
    "            temp = {}\n",
    "            for group in day['muscle_group']:\n",
    "                exercises = get_workout('strength', group, day['difficulty'])\n",
    "                temp[group] = exercises\n",
    "            output[count] = temp\n",
    "        else:\n",
    "            output[count] = 'Rest'\n",
    "    return output"
   ]
  },
  {
   "cell_type": "code",
   "execution_count": 6,
   "id": "fc6086fe-60d5-488c-911c-a97a06285aaa",
   "metadata": {},
   "outputs": [
    {
     "name": "stderr",
     "output_type": "stream",
     "text": [
      "/Users/ernesto/Projects/Ideal/venv/lib/python3.9/site-packages/langchain_core/_api/deprecation.py:117: LangChainDeprecationWarning: The class `langchain_community.chat_models.openai.ChatOpenAI` was deprecated in langchain-community 0.0.10 and will be removed in 0.2.0. An updated version of the class exists in the langchain-openai package and should be used instead. To use it run `pip install -U langchain-openai` and import as `from langchain_openai import ChatOpenAI`.\n",
      "  warn_deprecated(\n",
      "/Users/ernesto/Projects/Ideal/venv/lib/python3.9/site-packages/langchain_core/_api/deprecation.py:117: LangChainDeprecationWarning: The function `__call__` was deprecated in LangChain 0.1.0 and will be removed in 0.2.0. Use invoke instead.\n",
      "  warn_deprecated(\n"
     ]
    },
    {
     "name": "stdout",
     "output_type": "stream",
     "text": [
      "\n",
      "\n",
      "\u001b[1m> Entering new SequentialChain chain...\u001b[0m\n",
      "\n",
      "\u001b[1m> Finished chain.\u001b[0m\n"
     ]
    }
   ],
   "source": [
    "weekly_workout_plan = get_results(19, 'male', '6', '140', '160', 'trim fat', 'none')"
   ]
  },
  {
   "cell_type": "code",
   "execution_count": 7,
   "id": "02413544-f4f5-4d97-bc74-46b6ac3a6dc6",
   "metadata": {},
   "outputs": [
    {
     "data": {
      "text/plain": [
       "{'Monday': {'chest': 401, 'triceps': 429},\n",
       " 'Tuesday': 429,\n",
       " 'Wednesday': 'Rest',\n",
       " 'Thursday': {'lats': 429, 'biceps': 429},\n",
       " 'Friday': 429,\n",
       " 'Saturday': {'quadriceps': 429, 'glutes': 429, 'traps': 429},\n",
       " 'Sunday': 'Rest'}"
      ]
     },
     "execution_count": 7,
     "metadata": {},
     "output_type": "execute_result"
    }
   ],
   "source": [
    "weekly_workout_plan"
   ]
  },
  {
   "cell_type": "code",
   "execution_count": 8,
   "id": "dac66696-e935-4aa0-86f3-984a81727e89",
   "metadata": {},
   "outputs": [
    {
     "data": {
      "text/plain": [
       "dict_keys(['Monday', 'Tuesday', 'Wednesday', 'Thursday', 'Friday', 'Saturday', 'Sunday'])"
      ]
     },
     "execution_count": 8,
     "metadata": {},
     "output_type": "execute_result"
    }
   ],
   "source": [
    "weekly_workout_plan.keys()"
   ]
  },
  {
   "cell_type": "code",
   "execution_count": 9,
   "id": "066753ae-32a7-43f9-a738-7d6e5203c0c2",
   "metadata": {},
   "outputs": [
    {
     "ename": "AttributeError",
     "evalue": "'int' object has no attribute 'keys'",
     "output_type": "error",
     "traceback": [
      "\u001b[0;31m---------------------------------------------------------------------------\u001b[0m",
      "\u001b[0;31mAttributeError\u001b[0m                            Traceback (most recent call last)",
      "Cell \u001b[0;32mIn[9], line 2\u001b[0m\n\u001b[1;32m      1\u001b[0m weekly_workout_plan[\u001b[38;5;124m'\u001b[39m\u001b[38;5;124mMonday\u001b[39m\u001b[38;5;124m'\u001b[39m]\u001b[38;5;241m.\u001b[39mkeys()\n\u001b[0;32m----> 2\u001b[0m \u001b[43mweekly_workout_plan\u001b[49m\u001b[43m[\u001b[49m\u001b[38;5;124;43m'\u001b[39;49m\u001b[38;5;124;43mTuesday\u001b[39;49m\u001b[38;5;124;43m'\u001b[39;49m\u001b[43m]\u001b[49m\u001b[38;5;241;43m.\u001b[39;49m\u001b[43mkeys\u001b[49m()\n\u001b[1;32m      3\u001b[0m weekly_workout_plan[\u001b[38;5;124m'\u001b[39m\u001b[38;5;124mWednesday\u001b[39m\u001b[38;5;124m'\u001b[39m]\u001b[38;5;241m.\u001b[39mkeys()\n\u001b[1;32m      4\u001b[0m weekly_workout_plan[\u001b[38;5;124m'\u001b[39m\u001b[38;5;124mThursday\u001b[39m\u001b[38;5;124m'\u001b[39m]\u001b[38;5;241m.\u001b[39mkeys()\n",
      "\u001b[0;31mAttributeError\u001b[0m: 'int' object has no attribute 'keys'"
     ]
    }
   ],
   "source": [
    "weekly_workout_plan['Monday'].keys()\n",
    "weekly_workout_plan['Tuesday'].keys()\n",
    "weekly_workout_plan['Wednesday'].keys()\n",
    "weekly_workout_plan['Thursday'].keys()\n",
    "weekly_workout_plan['Friday'].keys() \n",
    "weekly_workout_plan['Saturday'].keys()\n",
    "weekly_workout_plan['Sunday'].keys()"
   ]
  },
  {
   "cell_type": "code",
   "execution_count": 81,
   "id": "301edc86-1d6a-402b-bcd2-9ea8381de8bc",
   "metadata": {},
   "outputs": [
    {
     "data": {
      "text/plain": [
       "[{'name': 'Dumbbell Bench Press',\n",
       "  'type': 'strength',\n",
       "  'muscle': 'chest',\n",
       "  'equipment': 'dumbbell',\n",
       "  'difficulty': 'intermediate',\n",
       "  'instructions': 'Lie down on a flat bench with a dumbbell in each hand resting on top of your thighs. The palms of your hands will be facing each other. Then, using your thighs to help raise the dumbbells up, lift the dumbbells one at a time so that you can hold them in front of you at shoulder width. Once at shoulder width, rotate your wrists forward so that the palms of your hands are facing away from you. The dumbbells should be just to the sides of your chest, with your upper arm and forearm creating a 90 degree angle. Be sure to maintain full control of the dumbbells at all times. This will be your starting position. Then, as you breathe out, use your chest to push the dumbbells up. Lock your arms at the top of the lift and squeeze your chest, hold for a second and then begin coming down slowly. Tip: Ideally, lowering the weight should take about twice as long as raising it. Repeat the movement for the prescribed amount of repetitions of your training program.  Caution: When you are done, do not drop the dumbbells next to you as this is dangerous to your rotator cuff in your shoulders and others working out around you. Just lift your legs from the floor bending at the knees, twist your wrists so that the palms of your hands are facing each other and place the dumbbells on top of your thighs. When both dumbbells are touching your thighs simultaneously push your upper torso up (while pressing the dumbbells on your thighs) and also perform a slight kick forward with your legs (keeping the dumbbells on top of the thighs). By doing this combined movement, momentum will help you get back to a sitting position with both dumbbells still on top of your thighs. At this moment you can place the dumbbells on the floor. Variations: Another variation of this exercise is to perform it with the palms of the hands facing each other. Also, you can perform the exercise with the palms facing each other and then twisting the wrist as you lift the dumbbells so that at the top of the movement the palms are facing away from the body. I personally do not use this variation very often as it seems to be hard on my shoulders.'},\n",
       " {'name': 'Pushups',\n",
       "  'type': 'strength',\n",
       "  'muscle': 'chest',\n",
       "  'equipment': 'body_only',\n",
       "  'difficulty': 'intermediate',\n",
       "  'instructions': 'Lie on the floor face down and place your hands about 36 inches apart while holding your torso up at arms length. Next, lower yourself downward until your chest almost touches the floor as you inhale. Now breathe out and press your upper body back up to the starting position while squeezing your chest. After a brief pause at the top contracted position, you can begin to lower yourself downward again for as many repetitions as needed.  Variations: If you are new at this exercise and do not have the strength to perform it, you can either bend your legs at the knees to take off resistance or perform the exercise against the wall instead of the floor. For the most advanced lifters, you can place your feet at a high surface such as a bench in order to increase the resistance and to target the upper chest more.'},\n",
       " {'name': 'Close-grip bench press',\n",
       "  'type': 'strength',\n",
       "  'muscle': 'chest',\n",
       "  'equipment': 'barbell',\n",
       "  'difficulty': 'intermediate',\n",
       "  'instructions': 'Lie back on a flat bench. Using a close grip (around shoulder width), lift the bar from the rack and hold it straight over you with your arms locked. This will be your starting position. As you breathe in, come down slowly until you feel the bar on your middle chest. Tip: Make sure that - as opposed to a regular bench press - you keep the elbows close to the torso at all times in order to maximize triceps involvement. After a second pause, bring the bar back to the starting position as you breathe out and push the bar using your triceps muscles. Lock your arms in the contracted position, hold for a second and then start coming down slowly again. Tip: It should take at least twice as long to go down than to come up. Repeat the movement for the prescribed amount of repetitions. When you are done, place the bar back in the rack.  Caution: If you are new at this exercise, it is advised that you use a spotter. If no spotter is available, then be conservative with the amount of weight used. Also, beware of letting the bar drift too far forward. You want the bar to fall on your middle chest and nowhere else. Variations: This exercise can also be performed with an e-z bar using the inner handle as well as dumbbells, in which case the palms of the hands will be facing each other.'},\n",
       " {'name': 'Dumbbell Flyes',\n",
       "  'type': 'strength',\n",
       "  'muscle': 'chest',\n",
       "  'equipment': 'dumbbell',\n",
       "  'difficulty': 'intermediate',\n",
       "  'instructions': \"Lie down on a flat bench with a dumbbell on each hand resting on top of your thighs. The palms of your hand will be facing each other. Then using your thighs to help raise the dumbbells, lift the dumbbells one at a time so you can hold them in front of you at shoulder width with the palms of your hands facing each other. Raise the dumbbells up like you're pressing them, but stop and hold just before you lock out. This will be your starting position. With a slight bend on your elbows in order to prevent stress at the biceps tendon, lower your arms out at both sides in a wide arc until you feel a stretch on your chest. Breathe in as you perform this portion of the movement. Tip: Keep in mind that throughout the movement, the arms should remain stationary; the movement should only occur at the shoulder joint. Return your arms back to the starting position as you squeeze your chest muscles and breathe out. Tip: Make sure to use the same arc of motion used to lower the weights. Hold for a second at the contracted position and repeat the movement for the prescribed amount of repetitions.  Variations: You may want to use a palms facing forward version for different stimulation.\"},\n",
       " {'name': 'Incline dumbbell bench press',\n",
       "  'type': 'strength',\n",
       "  'muscle': 'chest',\n",
       "  'equipment': 'dumbbell',\n",
       "  'difficulty': 'intermediate',\n",
       "  'instructions': 'Lie back on an incline bench with a dumbbell in each hand atop your thighs. The palms of your hands will be facing each other. Then, using your thighs to help push the dumbbells up, lift the dumbbells one at a time so that you can hold them at shoulder width. Once you have the dumbbells raised to shoulder width, rotate your wrists forward so that the palms of your hands are facing away from you. This will be your starting position. Be sure to keep full control of the dumbbells at all times. Then breathe out and push the dumbbells up with your chest. Lock your arms at the top, hold for a second, and then start slowly lowering the weight. Tip Ideally, lowering the weights should take about twice as long as raising them. Repeat the movement for the prescribed amount of repetitions. When you are done, place the dumbbells back on your thighs and then on the floor. This is the safest manner to release the dumbbells.  Variations: You can use several angles on the incline bench if the bench you are using is adjustable. Another variation of this exercise is to perform it with the palms of the hands facing each other. Also, you can perform the exercise with the palms facing each other and then twisting the wrist as you lift the dumbbells so that at the top of the movement the palms are facing away from the body. I personally do not use this variation very often as it seems to be hard on my shoulders.'},\n",
       " {'name': 'Low-cable cross-over',\n",
       "  'type': 'strength',\n",
       "  'muscle': 'chest',\n",
       "  'equipment': 'cable',\n",
       "  'difficulty': 'intermediate',\n",
       "  'instructions': 'To move into the starting position, place the pulleys at the low position, select the resistance to be used and grasp a handle in each hand. Step forward, gaining tension in the pulleys. Your palms should be facing forward, hands below the waist, and your arms straight. This will be your starting position. With a slight bend in your arms, draw your hands upward and toward the midline of your body. Your hands should come together in front of your chest, palms facing up. Return your arms back to the starting position after a brief pause.'},\n",
       " {'name': 'Barbell Bench Press - Medium Grip',\n",
       "  'type': 'strength',\n",
       "  'muscle': 'chest',\n",
       "  'equipment': 'barbell',\n",
       "  'difficulty': 'intermediate',\n",
       "  'instructions': \"Lie back on a flat bench. Using a medium width grip (a grip that creates a 90-degree angle in the middle of the movement between the forearms and the upper arms), lift the bar from the rack and hold it straight over you with your arms locked. This will be your starting position. From the starting position, breathe in and begin coming down slowly until the bar touches your middle chest. After a brief pause, push the bar back to the starting position as you breathe out. Focus on pushing the bar using your chest muscles. Lock your arms and squeeze your chest in the contracted position at the top of the motion, hold for a second and then start coming down slowly again. Tip: Ideally, lowering the weight should take about twice as long as raising it. Repeat the movement for the prescribed amount of repetitions. When you are done, place the bar back in the rack.  Caution: If you are new at this exercise, it is advised that you use a spotter. If no spotter is available, then be conservative with the amount of weight used. Also, beware of letting the bar drift too far forward. You want the bar to touch your middle chest and nowhere else. Don't bounce the weight off your chest. You should be in full control of the barbell at all times.\"},\n",
       " {'name': 'Chest dip',\n",
       "  'type': 'strength',\n",
       "  'muscle': 'chest',\n",
       "  'equipment': 'other',\n",
       "  'difficulty': 'intermediate',\n",
       "  'instructions': 'For this exercise you will need access to parallel bars. To get yourself into the starting position, hold your body at arms length (arms locked) above the bars. While breathing in, lower yourself slowly with your torso leaning forward around 30 degrees or so and your elbows flared out slightly until you feel a slight stretch in the chest. Once you feel the stretch, use your chest to bring your body back to the starting position as you breathe out. Tip: Remember to squeeze the chest at the top of the movement for a second. Repeat the movement for the prescribed amount of repetitions.  Variations: If you are new at this exercise and do not have the strength to perform it, use a dip assist machine if available. These machines use weight to help you push your bodyweight. Otherwise, a spotter holding your legs can help. More advanced lifters can add weight to the exercise by using a weight belt that allows the addition of weighted plates.'},\n",
       " {'name': 'Decline Dumbbell Flyes',\n",
       "  'type': 'strength',\n",
       "  'muscle': 'chest',\n",
       "  'equipment': 'dumbbell',\n",
       "  'difficulty': 'intermediate',\n",
       "  'instructions': 'Secure your legs at the end of the decline bench and lie down with a dumbbell on each hand on top of your thighs. The palms of your hand will be facing each other. Once you are laying down, move the dumbbells in front of you at shoulder width. The palms of the hands should be facing each other and the arms should be perpendicular to the floor and fully extended. This will be your starting position. With a slight bend on your elbows in order to prevent stress at the biceps tendon, lower your arms out at both sides in a wide arc until you feel a stretch on your chest. Breathe in as you perform this portion of the movement. Tip: Keep in mind that throughout the movement, the arms should remain stationary; the movement should only occur at the shoulder joint. Return your arms back to the starting position as you squeeze your chest muscles and breathe out. Tip: Make sure to use the same arc of motion used to lower the weights. Hold for a second at the contracted position and repeat the movement for the prescribed amount of repetitions.  Variation: You may want to use a palms facing forward version for different stimulation.'},\n",
       " {'name': 'Incline cable chest fly',\n",
       "  'type': 'strength',\n",
       "  'muscle': 'chest',\n",
       "  'equipment': 'cable',\n",
       "  'difficulty': 'intermediate',\n",
       "  'instructions': 'To get yourself into the starting position, set the pulleys at the floor level (lowest level possible on the machine that is below your torso). Place an incline bench (set at 45 degrees) in between the pulleys, select a weight on each one and grab a pulley on each hand. With a handle on each hand, lie on the incline bench and bring your hands together at arms length in front of your face. This will be your starting position. With a slight bend of your elbows (in order to prevent stress at the biceps tendon), lower your arms out at both sides in a wide arc until you feel a stretch on your chest. Breathe in as you perform this portion of the movement. Tip: Keep in mind that throughout the movement, the arms should remain stationary. The movement should only occur at the shoulder joint. Return your arms back to the starting position as you squeeze your chest muscles and exhale. Hold the contracted position for a second. Tip: Make sure to use the same arc of motion used to lower the weights. Repeat the movement for the prescribed amount of repetitions.  Variation: You can vary the angle of the bench in order to target the upper chest at slightly different angles.'}]"
      ]
     },
     "execution_count": 81,
     "metadata": {},
     "output_type": "execute_result"
    }
   ],
   "source": [
    "weekly_workout_plan['Monday']['chest']"
   ]
  },
  {
   "cell_type": "code",
   "execution_count": 82,
   "id": "90172e5e-6cae-4e94-90ce-ff63e3f7fa21",
   "metadata": {},
   "outputs": [
    {
     "data": {
      "text/plain": [
       "{'name': 'Dumbbell Bench Press',\n",
       " 'type': 'strength',\n",
       " 'muscle': 'chest',\n",
       " 'equipment': 'dumbbell',\n",
       " 'difficulty': 'intermediate',\n",
       " 'instructions': 'Lie down on a flat bench with a dumbbell in each hand resting on top of your thighs. The palms of your hands will be facing each other. Then, using your thighs to help raise the dumbbells up, lift the dumbbells one at a time so that you can hold them in front of you at shoulder width. Once at shoulder width, rotate your wrists forward so that the palms of your hands are facing away from you. The dumbbells should be just to the sides of your chest, with your upper arm and forearm creating a 90 degree angle. Be sure to maintain full control of the dumbbells at all times. This will be your starting position. Then, as you breathe out, use your chest to push the dumbbells up. Lock your arms at the top of the lift and squeeze your chest, hold for a second and then begin coming down slowly. Tip: Ideally, lowering the weight should take about twice as long as raising it. Repeat the movement for the prescribed amount of repetitions of your training program.  Caution: When you are done, do not drop the dumbbells next to you as this is dangerous to your rotator cuff in your shoulders and others working out around you. Just lift your legs from the floor bending at the knees, twist your wrists so that the palms of your hands are facing each other and place the dumbbells on top of your thighs. When both dumbbells are touching your thighs simultaneously push your upper torso up (while pressing the dumbbells on your thighs) and also perform a slight kick forward with your legs (keeping the dumbbells on top of the thighs). By doing this combined movement, momentum will help you get back to a sitting position with both dumbbells still on top of your thighs. At this moment you can place the dumbbells on the floor. Variations: Another variation of this exercise is to perform it with the palms of the hands facing each other. Also, you can perform the exercise with the palms facing each other and then twisting the wrist as you lift the dumbbells so that at the top of the movement the palms are facing away from the body. I personally do not use this variation very often as it seems to be hard on my shoulders.'}"
      ]
     },
     "execution_count": 82,
     "metadata": {},
     "output_type": "execute_result"
    }
   ],
   "source": [
    "weekly_workout_plan['Monday']['chest'][0]"
   ]
  },
  {
   "cell_type": "code",
   "execution_count": null,
   "id": "e717ccbf-e196-481c-8fdb-4a9f9b06a80d",
   "metadata": {},
   "outputs": [],
   "source": []
  }
 ],
 "metadata": {
  "kernelspec": {
   "display_name": "Python 3 (ipykernel)",
   "language": "python",
   "name": "python3"
  },
  "language_info": {
   "codemirror_mode": {
    "name": "ipython",
    "version": 3
   },
   "file_extension": ".py",
   "mimetype": "text/x-python",
   "name": "python",
   "nbconvert_exporter": "python",
   "pygments_lexer": "ipython3",
   "version": "3.9.6"
  }
 },
 "nbformat": 4,
 "nbformat_minor": 5
}
