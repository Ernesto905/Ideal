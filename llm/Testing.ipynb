{
 "cells": [
  {
   "cell_type": "code",
   "execution_count": 1,
   "id": "48dd03fe-33d7-4c60-b018-03c9f388be7b",
   "metadata": {},
   "outputs": [
    {
     "data": {
      "text/plain": [
       "False"
      ]
     },
     "execution_count": 1,
     "metadata": {},
     "output_type": "execute_result"
    }
   ],
   "source": [
    "from langchain_community.chat_models import ChatOpenAI\n",
    "from dotenv import load_dotenv\n",
    "import os\n",
    "from langchain.agents import initialize_agent\n",
    "\n",
    "load_dotenv()"
   ]
  },
  {
   "cell_type": "code",
   "execution_count": 2,
   "id": "1e264574-af11-4227-9af5-63fb31b163a2",
   "metadata": {},
   "outputs": [
    {
     "name": "stderr",
     "output_type": "stream",
     "text": [
      "/home/jason/.local/lib/python3.11/site-packages/langchain_core/_api/deprecation.py:117: LangChainDeprecationWarning: The class `langchain_community.chat_models.openai.ChatOpenAI` was deprecated in langchain-community 0.0.10 and will be removed in 0.2.0. An updated version of the class exists in the langchain-openai package and should be used instead. To use it run `pip install -U langchain-openai` and import as `from langchain_openai import ChatOpenAI`.\n",
      "  warn_deprecated(\n"
     ]
    }
   ],
   "source": [
    "open_api_key = os.getenv(\"OPENAI_API_KEY\")\n",
    "llm = ChatOpenAI(\n",
    "    openai_api_key = open_api_key,\n",
    "    temperature=0,\n",
    "    model_name=\"gpt-4-0125-preview\"\n",
    ")"
   ]
  },
  {
   "cell_type": "code",
   "execution_count": 3,
   "id": "180be50d-fb97-4445-b59d-4c0f5784ee9d",
   "metadata": {},
   "outputs": [],
   "source": [
    "from langchain.agents import tool\n",
    "\n",
    "@tool\n",
    "def diet_planner(restriction):\n",
    "    '''Uses an API to find the ideal diet plan given your inputs'''\n",
    "    return f\"diet planner used with the given input: {restriction}, eat 50 pounds of greens a day\"\n",
    "\n",
    "@tool\n",
    "def workout_planner(weight):\n",
    "    '''Uses an API to find the ideal workout plan given your inputs'''\n",
    "    return f\"workout_planner used with the given input: {weight}, do 50 situps a day\"\n",
    "\n",
    "tools = [diet_planner, workout_planner]"
   ]
  },
  {
   "cell_type": "code",
   "execution_count": 4,
   "id": "117a9363-f12f-44a0-b9c2-b1c57517f755",
   "metadata": {},
   "outputs": [],
   "source": [
    "from langchain.agents import AgentExecutor, create_openai_tools_agent\n",
    "from langchain_core.messages import BaseMessage, HumanMessage\n",
    "\n",
    "def create_agent(llm: ChatOpenAI, tools: list, system_prompt: str):\n",
    "    # Each worker node will be given a name and some tools.\n",
    "    prompt = ChatPromptTemplate.from_messages(\n",
    "        [\n",
    "            (\n",
    "                \"system\",\n",
    "                system_prompt,\n",
    "            ),\n",
    "            MessagesPlaceholder(variable_name=\"messages\"),\n",
    "            MessagesPlaceholder(variable_name=\"agent_scratchpad\"),\n",
    "        ]\n",
    "    )\n",
    "    agent = create_openai_tools_agent(llm, tools, prompt)\n",
    "    executor = AgentExecutor(agent=agent, tools=tools)\n",
    "    return executor"
   ]
  },
  {
   "cell_type": "code",
   "execution_count": 5,
   "id": "ddd298e6-b0d8-455a-96ab-e32dec17ccd9",
   "metadata": {},
   "outputs": [],
   "source": [
    "def agent_node(state, agent, name):\n",
    "    result = agent.invoke(state)\n",
    "    return {\"messages\": [HumanMessage(content=result[\"output\"], name=name)]}"
   ]
  },
  {
   "cell_type": "code",
   "execution_count": 6,
   "id": "131dd2df-1d53-4218-97cd-d03835ec3020",
   "metadata": {},
   "outputs": [],
   "source": [
    "from langchain.output_parsers.openai_functions import JsonOutputFunctionsParser\n",
    "from langchain_core.prompts import ChatPromptTemplate, MessagesPlaceholder\n",
    "\n",
    "members = [\"Fitness trainer\", \"Dietician\"]\n",
    "system_prompt = (\n",
    "    \" You are a supervisor tasked with delagating tasks to the fitness trainer and the dietician. \"\n",
    "    \" Tell the fitness trainer to consider user inputs, and devise a workout plan without using any tools given it. \"\n",
    "    \" Once the fitness trainer has given a response, tell the dietician to consider user inputs, and devise a diet plan without using any tools. \"\n",
    "    \" Once both the fitness trainer and dietician has given a response, respond with finish.\"\n",
    ")\n",
    "# Our team supervisor is an LLM node. It just picks the next agent to process\n",
    "# and decides when the work is completed\n",
    "options = [\"FINISH\"] + members\n",
    "# Using openai function calling can make output parsing easier for us\n",
    "function_def = {\n",
    "    \"name\": \"route\",\n",
    "    \"description\": \"Select the next role.\",\n",
    "    \"parameters\": {\n",
    "        \"title\": \"routeSchema\",\n",
    "        \"type\": \"object\",\n",
    "        \"properties\": {\n",
    "            \"next\": {\n",
    "                \"title\": \"Next\",\n",
    "                \"anyOf\": [\n",
    "                    {\"enum\": options},\n",
    "                ],\n",
    "            }\n",
    "        },\n",
    "        \"required\": [\"next\"],\n",
    "    },\n",
    "}\n",
    "prompt = ChatPromptTemplate.from_messages(\n",
    "    [\n",
    "        (\"system\", system_prompt),\n",
    "        MessagesPlaceholder(variable_name=\"messages\"),\n",
    "        (\n",
    "            \"system\",\n",
    "            \"Given the prompt and the conversation, who should act next?\"\n",
    "            \" Or should we FINISH? Select one of: {options}\",\n",
    "        ),\n",
    "    ]\n",
    ").partial(options=str(options), members=\", \".join(members))\n",
    "\n",
    "supervisor_chain = (\n",
    "    prompt\n",
    "    | llm.bind_functions(functions=[function_def], function_call=\"route\")\n",
    "    | JsonOutputFunctionsParser()\n",
    ")"
   ]
  },
  {
   "cell_type": "code",
   "execution_count": 7,
   "id": "a6a60d2d-0bea-47a6-90d9-32760962b576",
   "metadata": {},
   "outputs": [],
   "source": [
    "import operator\n",
    "from typing import Annotated, Any, Dict, List, Optional, Sequence, TypedDict\n",
    "import functools\n",
    "\n",
    "from langchain_core.prompts import ChatPromptTemplate, MessagesPlaceholder\n",
    "from langgraph.graph import StateGraph, END\n",
    "\n",
    "\n",
    "# The agent state is the input to each node in the graph\n",
    "class AgentState(TypedDict):\n",
    "    # The annotation tells the graph that new messages will always\n",
    "    # be added to the current states\n",
    "    messages: Annotated[Sequence[BaseMessage], operator.add]\n",
    "    # The 'next' field indicates where to route to next\n",
    "    next: str\n",
    "\n",
    "\n",
    "fitness_agent = create_agent(llm, [workout_planner], \"You are a professional workout instructor\")\n",
    "fitness_node = functools.partial(agent_node, agent=fitness_agent, name=\"Fitness trainer\")\n",
    "diet_agent = create_agent(llm, [diet_planner], \"You are a professional dietician\")\n",
    "diet_node = functools.partial(agent_node, agent= diet_agent, name=\"Dietician\")\n",
    "\n",
    "\n",
    "workflow = StateGraph(AgentState)\n",
    "workflow.add_node(\"Dietician\", diet_node)\n",
    "workflow.add_node(\"Fitness trainer\", fitness_node)\n",
    "workflow.add_node(\"supervisor\", supervisor_chain)"
   ]
  },
  {
   "cell_type": "code",
   "execution_count": 8,
   "id": "12e3eb08-a03d-4c07-9a4c-f6edadd6f890",
   "metadata": {},
   "outputs": [],
   "source": [
    "for member in members:\n",
    "    # We want our workers to ALWAYS \"report back\" to the supervisor when done\n",
    "    workflow.add_edge(member, \"supervisor\")\n",
    "# The supervisor populates the \"next\" field in the graph state\n",
    "# which routes to a node or finishes\n",
    "conditional_map = {k: k for k in members}\n",
    "conditional_map[\"FINISH\"] = END\n",
    "workflow.add_conditional_edges(\"supervisor\", lambda x: x[\"next\"], conditional_map)\n",
    "# Finally, add entrypoint\n",
    "workflow.set_entry_point(\"supervisor\")\n",
    "\n",
    "graph = workflow.compile()\n"
   ]
  },
  {
   "cell_type": "code",
   "execution_count": 9,
   "id": "6136ce7a-5f7e-41bf-a889-1724b583542f",
   "metadata": {},
   "outputs": [
    {
     "name": "stdout",
     "output_type": "stream",
     "text": [
      "{'supervisor': {'next': 'Fitness trainer'}}\n",
      "----\n",
      "{'Fitness trainer': {'messages': [HumanMessage(content=\"For someone weighing 99 pounds, an ideal workout plan would include doing 50 situps a day. Since you mentioned being vegan, it's also important to ensure that your diet supports your workout goals. Make sure to include a variety of plant-based protein sources, such as lentils, chickpeas, tofu, and quinoa, to aid in muscle recovery and growth. Stay hydrated and consider integrating other forms of exercise, like yoga or light jogging, to maintain a balanced fitness routine.\", name='Fitness trainer')]}}\n",
      "----\n",
      "{'supervisor': {'next': 'Dietician'}}\n",
      "----\n",
      "{'Dietician': {'messages': [HumanMessage(content=\"That sounds like a solid plan! Incorporating a variety of exercises along with a balanced vegan diet can definitely help in achieving your fitness goals. Here are a few additional tips to consider:\\n\\n1. **Protein Intake**: As a vegan, it's crucial to pay attention to your protein intake to support muscle recovery and growth, especially when engaging in regular exercise like sit-ups. Aim for a variety of protein sources throughout the day to ensure you're getting all essential amino acids. Good sources include lentils, chickpeas, tofu, quinoa, and also include nuts, seeds, and plant-based protein powders.\\n\\n2. **Carbohydrates**: Don't shy away from carbohydrates, especially whole grains, fruits, and vegetables. They are your body's primary energy source, especially important for fueling your workouts and recovery.\\n\\n3. **Healthy Fats**: Incorporate healthy fats into your diet from sources like avocados, nuts, seeds, and olive oil. These are important for overall health and can also provide a good energy source.\\n\\n4. **Hydration**: Staying hydrated is key, especially when you're active. Water is essential for your body's metabolic processes and helps with recovery and performance.\\n\\n5. **Micronutrients**: Pay attention to micronutrients that might be more challenging to get in a vegan diet, such as Vitamin B12, Vitamin D, iron, calcium, and omega-3 fatty acids. Consider fortified foods or supplements for these nutrients if necessary.\\n\\n6. **Variety and Balance**: Ensure your diet is varied and balanced. This not only helps in covering all nutritional bases but also keeps meals interesting and enjoyable.\\n\\n7. **Listen to Your Body**: Adjust your food intake based on how you feel and your energy levels. If you're feeling tired or weak, you might need to increase your calorie intake or adjust your macronutrient ratios.\\n\\n8. **Rest and Recovery**: Remember that rest days are just as important as workout days. They allow your muscles to recover and grow stronger.\\n\\nIncorporating these dietary and lifestyle tips can help support your workout routine and overall health. If you're looking for more personalized advice, consider consulting with a dietitian who specializes in vegan nutrition.\", name='Dietician')]}}\n",
      "----\n",
      "{'supervisor': {'next': 'FINISH'}}\n",
      "----\n"
     ]
    }
   ],
   "source": [
    "for s in graph.stream(\n",
    "    {\n",
    "        \"messages\": [\n",
    "            HumanMessage(content=\"99 pounds, vegan\")\n",
    "        ]\n",
    "    }\n",
    "):\n",
    "    if \"__end__\" not in s:\n",
    "        print(s)\n",
    "        print(\"----\")"
   ]
  },
  {
   "cell_type": "code",
   "execution_count": 10,
   "id": "49742bb8-2dc7-4f62-a7a3-a693d0a53a71",
   "metadata": {},
   "outputs": [
    {
     "data": {
      "text/plain": [
       "{'messages': ['99 pounds,vegan',\n",
       "  HumanMessage(content=\"For someone weighing 99 pounds, a recommended workout plan is to do 50 situps a day. Since you mentioned being vegan, it's also important to ensure your diet supports your fitness goals. Focus on a balanced intake of plant-based proteins, carbohydrates, and fats to fuel your workouts and recovery.\", name='Fitness trainer'),\n",
       "  HumanMessage(content=\"For someone weighing 99 pounds and following a vegan lifestyle, it's crucial to maintain a balanced diet that supports your fitness goals, especially if you're incorporating a workout plan that includes 50 situps a day. Here's a general guideline to help you align your diet with your fitness routine:\\n\\n### Protein\\nProtein is essential for muscle repair and growth. As a vegan, you can get your protein from sources like:\\n- Lentils and beans\\n- Tofu and tempeh\\n- Quinoa and other whole grains\\n- Nuts and seeds (e.g., almonds, chia seeds, hemp seeds)\\n- Pea protein powders\\n\\nAim for about 0.8 to 1 gram of protein per pound of body weight, which would be roughly 79 to 99 grams of protein daily for someone weighing 99 pounds. This can vary based on your activity level and fitness goals.\\n\\n### Carbohydrates\\nCarbohydrates are your body's primary energy source, especially important for fueling and recovering from workouts. Focus on complex carbohydrates, which provide sustained energy, such as:\\n- Whole grains (e.g., brown rice, oats)\\n- Fruits (e.g., bananas, apples, berries)\\n- Vegetables (e.g., sweet potatoes, broccoli, leafy greens)\\n\\n### Fats\\nHealthy fats are vital for overall health, including hormone production and nutrient absorption. Include sources of healthy fats in your diet, such as:\\n- Avocados\\n- Nuts and seeds\\n- Olive oil and coconut oil\\n- Flaxseeds and chia seeds\\n\\n### Hydration\\nStaying hydrated is crucial, especially on workout days. Drink plenty of water throughout the day, and consider adding electrolyte-rich beverages like coconut water after intense workouts.\\n\\n### Supplements\\nAs a vegan, you might need to pay extra attention to certain nutrients that are harder to obtain from a plant-based diet, such as Vitamin B12, Vitamin D, Omega-3 (from algae oil), and Iron. Consider consulting with a healthcare provider to determine if supplementation is necessary for you.\\n\\n### Sample Meal Plan\\nHere's a simple daily meal plan idea to get you started:\\n\\n**Breakfast:** Oatmeal with almond milk, topped with berries, chia seeds, and a scoop of pea protein powder.\\n\\n**Lunch:** Quinoa salad with black beans, avocado, cherry tomatoes, spinach, and a lemon-tahini dressing.\\n\\n**Snack:** Apple slices with almond butter.\\n\\n**Dinner:** Stir-fried tofu with broccoli, bell peppers, and carrots over brown rice.\\n\\n**Snack:** A handful of almonds or a vegan protein shake.\\n\\nRemember, this is a general guideline. It's important to listen to your body and adjust your diet based on how you feel and your specific fitness goals. Consulting with a dietitian can also provide personalized advice tailored to your needs.\", name='Dietician')],\n",
       " 'next': 'FINISH'}"
      ]
     },
     "execution_count": 10,
     "metadata": {},
     "output_type": "execute_result"
    }
   ],
   "source": [
    "graph.invoke({\"messages\": [\"99 pounds,vegan\"]})"
   ]
  },
  {
   "cell_type": "code",
   "execution_count": null,
   "id": "dd3a8d57-82ec-4b1c-87b6-cb2c9658a84a",
   "metadata": {},
   "outputs": [],
   "source": []
  },
  {
   "cell_type": "code",
   "execution_count": null,
   "id": "73e91226-b155-4aaa-b983-05a01157c865",
   "metadata": {},
   "outputs": [],
   "source": []
  }
 ],
 "metadata": {
  "kernelspec": {
   "display_name": "Python 3 (ipykernel)",
   "language": "python",
   "name": "python3"
  },
  "language_info": {
   "codemirror_mode": {
    "name": "ipython",
    "version": 3
   },
   "file_extension": ".py",
   "mimetype": "text/x-python",
   "name": "python",
   "nbconvert_exporter": "python",
   "pygments_lexer": "ipython3",
   "version": "3.11.5"
  }
 },
 "nbformat": 4,
 "nbformat_minor": 5
}
